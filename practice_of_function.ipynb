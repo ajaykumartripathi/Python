{
 "cells": [
  {
   "cell_type": "code",
   "execution_count": 1,
   "metadata": {},
   "outputs": [],
   "source": [
    "# Function"
   ]
  },
  {
   "cell_type": "code",
   "execution_count": 9,
   "metadata": {},
   "outputs": [
    {
     "name": "stdout",
     "output_type": "stream",
     "text": [
      "[20, 11, 12, 13, 14]\n",
      "[20, 11, 12, 13, 14]\n"
     ]
    }
   ],
   "source": [
    "def myfun(x):\n",
    "    x[0]=20\n",
    "    print(x)\n",
    "    \n",
    "lst=[10,11,12,13,14]\n",
    "myfun(lst)\n",
    "print(lst)"
   ]
  },
  {
   "cell_type": "code",
   "execution_count": 13,
   "metadata": {},
   "outputs": [
    {
     "name": "stdout",
     "output_type": "stream",
     "text": [
      "[10, 20, 30, 40, 50]\n",
      "[10, 20, 30]\n",
      "[10, 20, 30, 40, 50]\n"
     ]
    }
   ],
   "source": [
    "def myfun1(x):\n",
    "    print(x)\n",
    "    x=[10,20,30]\n",
    "    print(x)\n",
    "    \n",
    "ls=[10,20,30,40,50]\n",
    "myfun1(ls)\n",
    "print(ls)"
   ]
  },
  {
   "cell_type": "code",
   "execution_count": 15,
   "metadata": {},
   "outputs": [
    {
     "name": "stdout",
     "output_type": "stream",
     "text": [
      "11\n",
      "10\n"
     ]
    }
   ],
   "source": [
    "def fun1(x):\n",
    "    x=x+1\n",
    "    print(x)\n",
    "re=10\n",
    "fun1(re)\n",
    "print(re)"
   ]
  },
  {
   "cell_type": "code",
   "execution_count": 16,
   "metadata": {},
   "outputs": [
    {
     "name": "stdout",
     "output_type": "stream",
     "text": [
      "x =  3\n",
      "y =  2\n",
      "x =  2\n",
      "y =  3\n"
     ]
    }
   ],
   "source": [
    "def swap(x,y):\n",
    "    temp=x;\n",
    "    x=y;\n",
    "    y=temp\n",
    "    print(\"x = \",x)\n",
    "    print(\"y = \",y)\n",
    "x=2\n",
    "y=3\n",
    "swap(x,y)\n",
    "print(\"x = \", x)\n",
    "print(\"y = \",y)"
   ]
  },
  {
   "cell_type": "code",
   "execution_count": 19,
   "metadata": {},
   "outputs": [
    {
     "name": "stdout",
     "output_type": "stream",
     "text": [
      "printing the string inside function  Hi Ajay How are you\n",
      "printing outside the function  Hi Ajay\n"
     ]
    }
   ],
   "source": [
    "def strfun(st):\n",
    "    st=st+\" How are you\";\n",
    "    print(\"printing the string inside function \",st);\n",
    "s=\"Hi Ajay\"\n",
    "strfun(s)\n",
    "print(\"printing outside the function \",s)"
   ]
  },
  {
   "cell_type": "markdown",
   "metadata": {},
   "source": [
    "# types of function"
   ]
  },
  {
   "cell_type": "code",
   "execution_count": 1,
   "metadata": {},
   "outputs": [],
   "source": [
    "# Required Arguement"
   ]
  },
  {
   "cell_type": "code",
   "execution_count": 2,
   "metadata": {},
   "outputs": [
    {
     "data": {
      "text/plain": [
       "35"
      ]
     },
     "execution_count": 2,
     "metadata": {},
     "output_type": "execute_result"
    }
   ],
   "source": [
    "def funreq(x,y):\n",
    "    return (x+y)\n",
    "\n",
    "funreq(20,15)"
   ]
  },
  {
   "cell_type": "code",
   "execution_count": 3,
   "metadata": {},
   "outputs": [],
   "source": [
    "# keyword Argument"
   ]
  },
  {
   "cell_type": "code",
   "execution_count": 7,
   "metadata": {},
   "outputs": [
    {
     "name": "stdout",
     "output_type": "stream",
     "text": [
      "hay shriAjay\n"
     ]
    }
   ],
   "source": [
    "def funkey(i,name):\n",
    "    data=\"hay \"+ i +name;\n",
    "    print(data)\n",
    "funkey(i=\"shri\",name=\"Ajay\")"
   ]
  },
  {
   "cell_type": "code",
   "execution_count": 9,
   "metadata": {},
   "outputs": [
    {
     "data": {
      "text/plain": [
       "'Ajaykumartripathi'"
      ]
     },
     "execution_count": 9,
     "metadata": {},
     "output_type": "execute_result"
    }
   ],
   "source": [
    "def funkey1(firstname, middlename, lastname):\n",
    "    name=firstname+middlename+lastname;\n",
    "    return name;\n",
    "funkey1(\"Ajay\",middlename=\"kumar\",lastname=\"tripathi\")"
   ]
  },
  {
   "cell_type": "code",
   "execution_count": 10,
   "metadata": {},
   "outputs": [],
   "source": [
    "#default Argument"
   ]
  },
  {
   "cell_type": "code",
   "execution_count": 13,
   "metadata": {},
   "outputs": [
    {
     "name": "stdout",
     "output_type": "stream",
     "text": [
      "my name is  AJAY  and age is  22\n"
     ]
    }
   ],
   "source": [
    "def deffun(name,age=22):\n",
    "    print(\"my name is \",name,\" and age is \",age)\n",
    "deffun(\"AJAY\")"
   ]
  },
  {
   "cell_type": "code",
   "execution_count": 14,
   "metadata": {},
   "outputs": [
    {
     "name": "stdout",
     "output_type": "stream",
     "text": [
      "my name is  AJAY  and age is  10\n"
     ]
    }
   ],
   "source": [
    "def deffun(name,age=22):\n",
    "    print(\"my name is \",name,\" and age is \",age)\n",
    "deffun(\"AJAY\",10)"
   ]
  },
  {
   "cell_type": "code",
   "execution_count": 15,
   "metadata": {},
   "outputs": [],
   "source": [
    "#Variable Length Argument"
   ]
  },
  {
   "cell_type": "code",
   "execution_count": 24,
   "metadata": {},
   "outputs": [
    {
     "name": "stdout",
     "output_type": "stream",
     "text": [
      "printing the message\n",
      "Ajay Aman Alok vijay "
     ]
    }
   ],
   "source": [
    "def funvarlen(*name):\n",
    "    print(\"printing the message\")\n",
    "    for  name in name:\n",
    "        print(name,end=\" \")\n",
    "funvarlen(\"Ajay\",\"Aman\",\"Alok\",\"vijay\")"
   ]
  },
  {
   "cell_type": "code",
   "execution_count": null,
   "metadata": {},
   "outputs": [],
   "source": []
  }
 ],
 "metadata": {
  "kernelspec": {
   "display_name": "Python 3",
   "language": "python",
   "name": "python3"
  },
  "language_info": {
   "codemirror_mode": {
    "name": "ipython",
    "version": 3
   },
   "file_extension": ".py",
   "mimetype": "text/x-python",
   "name": "python",
   "nbconvert_exporter": "python",
   "pygments_lexer": "ipython3",
   "version": "3.7.4"
  }
 },
 "nbformat": 4,
 "nbformat_minor": 2
}
